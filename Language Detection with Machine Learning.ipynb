{
 "cells": [
  {
   "cell_type": "code",
   "execution_count": 1,
   "id": "5ee26a6d",
   "metadata": {},
   "outputs": [],
   "source": [
    "#Language detection is a natural language processing task where \n",
    "#we need to identify the language of a text or document. Using machine learning \n",
    "#for language identification was a difficult task a few years ago because there was not \n",
    "#a lot of data on languages, but with the availability of data with ease, several powerful machine learning models \n",
    "#are already available for language identification. So, if you want to learn how to train a machine learning \n",
    "#model for language detection, then this article is for you. \n",
    "#In this article, I will walk you through the task of language detection with machine learning using Python."
   ]
  },
  {
   "cell_type": "markdown",
   "id": "1bb87885",
   "metadata": {},
   "source": [
    "# Importing libraries and the dataset"
   ]
  },
  {
   "cell_type": "code",
   "execution_count": 8,
   "id": "c98b3b8a",
   "metadata": {},
   "outputs": [
    {
     "name": "stdout",
     "output_type": "stream",
     "text": [
      "                                                Text  language\n",
      "0  klement gottwaldi surnukeha palsameeriti ning ...  Estonian\n",
      "1  sebes joseph pereira thomas  på eng the jesuit...   Swedish\n",
      "2  ถนนเจริญกรุง อักษรโรมัน thanon charoen krung เ...      Thai\n",
      "3  விசாகப்பட்டினம் தமிழ்ச்சங்கத்தை இந்துப் பத்திர...     Tamil\n",
      "4  de spons behoort tot het geslacht haliclona en...     Dutch\n"
     ]
    }
   ],
   "source": [
    "import pandas as pd\n",
    "import numpy as np\n",
    "from sklearn.feature_extraction.text import CountVectorizer\n",
    "from sklearn.model_selection import train_test_split\n",
    "from sklearn.naive_bayes import MultinomialNB\n",
    "data = pd.read_csv(\"https://raw.githubusercontent.com/amankharwal/Website-data/master/dataset.csv\")\n",
    "print(data.head())"
   ]
  },
  {
   "cell_type": "markdown",
   "id": "4efe3f12",
   "metadata": {},
   "source": [
    "# check whether this dataset contains any null values or not"
   ]
  },
  {
   "cell_type": "code",
   "execution_count": 9,
   "id": "5dc9974b",
   "metadata": {},
   "outputs": [
    {
     "data": {
      "text/plain": [
       "Text        0\n",
       "language    0\n",
       "dtype: int64"
      ]
     },
     "execution_count": 9,
     "metadata": {},
     "output_type": "execute_result"
    }
   ],
   "source": [
    "data.isnull().sum()"
   ]
  },
  {
   "cell_type": "markdown",
   "id": "99ec5d9f",
   "metadata": {},
   "source": [
    "# look at all the languages present in this dataset"
   ]
  },
  {
   "cell_type": "code",
   "execution_count": 10,
   "id": "010d5a8b",
   "metadata": {},
   "outputs": [
    {
     "data": {
      "text/plain": [
       "Turkish       1000\n",
       "Thai          1000\n",
       "Spanish       1000\n",
       "Dutch         1000\n",
       "Arabic        1000\n",
       "Estonian      1000\n",
       "Chinese       1000\n",
       "Persian       1000\n",
       "Japanese      1000\n",
       "Urdu          1000\n",
       "English       1000\n",
       "French        1000\n",
       "Portugese     1000\n",
       "Romanian      1000\n",
       "Pushto        1000\n",
       "Tamil         1000\n",
       "Korean        1000\n",
       "Indonesian    1000\n",
       "Hindi         1000\n",
       "Latin         1000\n",
       "Russian       1000\n",
       "Swedish       1000\n",
       "Name: language, dtype: int64"
      ]
     },
     "execution_count": 10,
     "metadata": {},
     "output_type": "execute_result"
    }
   ],
   "source": [
    "data[\"language\"].value_counts()"
   ]
  },
  {
   "cell_type": "markdown",
   "id": "84e82857",
   "metadata": {},
   "source": [
    "# Language Detection Model"
   ]
  },
  {
   "cell_type": "markdown",
   "id": "14239860",
   "metadata": {},
   "source": [
    "split the data into training and test sets:"
   ]
  },
  {
   "cell_type": "code",
   "execution_count": 11,
   "id": "aeda69d0",
   "metadata": {},
   "outputs": [],
   "source": [
    "x = np.array(data[\"Text\"])\n",
    "y = np.array(data[\"language\"])\n",
    "\n",
    "cv = CountVectorizer()\n",
    "X = cv.fit_transform(x)\n",
    "X_train, X_test, y_train, y_test = train_test_split(X, y, \n",
    "                                                    test_size=0.33, \n",
    "                                                    random_state=42)"
   ]
  },
  {
   "cell_type": "markdown",
   "id": "c6fa2d82",
   "metadata": {},
   "source": [
    "apply Multinomial Naïve Bayes algorithm to train the language detection model "
   ]
  },
  {
   "cell_type": "code",
   "execution_count": 12,
   "id": "2dcae3fd",
   "metadata": {},
   "outputs": [
    {
     "data": {
      "text/plain": [
       "0.953168044077135"
      ]
     },
     "execution_count": 12,
     "metadata": {},
     "output_type": "execute_result"
    }
   ],
   "source": [
    "model = MultinomialNB()\n",
    "model.fit(X_train,y_train)\n",
    "model.score(X_test,y_test)"
   ]
  },
  {
   "cell_type": "markdown",
   "id": "52e17fdc",
   "metadata": {},
   "source": [
    "detect the language of a text by taking a user input"
   ]
  },
  {
   "cell_type": "code",
   "execution_count": 19,
   "id": "0b05bc26",
   "metadata": {},
   "outputs": [
    {
     "name": "stdout",
     "output_type": "stream",
     "text": [
      "Enter a Text: ne var ne yok\n",
      "['Turkish']\n"
     ]
    }
   ],
   "source": [
    "user = input(\"Enter a Text: \")\n",
    "data = cv.transform([user]).toarray()\n",
    "output = model.predict(data)\n",
    "print(output)"
   ]
  },
  {
   "cell_type": "code",
   "execution_count": null,
   "id": "a876b138",
   "metadata": {},
   "outputs": [],
   "source": []
  }
 ],
 "metadata": {
  "kernelspec": {
   "display_name": "Python 3",
   "language": "python",
   "name": "python3"
  },
  "language_info": {
   "codemirror_mode": {
    "name": "ipython",
    "version": 3
   },
   "file_extension": ".py",
   "mimetype": "text/x-python",
   "name": "python",
   "nbconvert_exporter": "python",
   "pygments_lexer": "ipython3",
   "version": "3.8.8"
  }
 },
 "nbformat": 4,
 "nbformat_minor": 5
}
